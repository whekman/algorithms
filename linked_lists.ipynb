{
 "cells": [
  {
   "cell_type": "markdown",
   "id": "14910fa8-0bdb-466b-8d6b-aa35559ea70f",
   "metadata": {},
   "source": [
    "# Linked Lists"
   ]
  },
  {
   "cell_type": "raw",
   "id": "ded8f4a6-0efd-49fa-8f6a-6e5e72f16268",
   "metadata": {},
   "source": [
    "The infamous linked lists...\n",
    "\n",
    "Here an implementation of a doubly linked lists with a sentinel supporting:\n",
    "- insert\n",
    "- delete\n",
    "- create from array\n",
    "- search"
   ]
  },
  {
   "cell_type": "code",
   "execution_count": 13,
   "id": "57ed2ad6-8d14-4213-84b1-3739b7e4c65a",
   "metadata": {},
   "outputs": [],
   "source": [
    "\n",
    "class Node(object):\n",
    "    def __init__(self, key=None):\n",
    "\n",
    "        self.prev = None\n",
    "        self.next = None\n",
    "        self.key = key\n",
    "\n",
    "    def __repr__(self):\n",
    "        return '({:})'.format(self.key)\n",
    "\n",
    "class Sentinel(Node):\n",
    "    def __init__(self):\n",
    "        super().__init__()\n",
    "\n",
    "    def __repr__(self):\n",
    "        return 'Sentinel'\n",
    "\n",
    "class Head(object):\n",
    "    def __init__(self, next=None):\n",
    "\n",
    "        self.next = next\n",
    "\n",
    "    def __repr__(self):\n",
    "        return 'Head -> ' + self.next.__repr__()\n",
    "\n",
    "class LinkedList(object):\n",
    "    \n",
    "    def __init__(self, key = None):\n",
    "\n",
    "        self.head = Head()\n",
    "        self.sentinel = Sentinel()\n",
    "\n",
    "        self.head.next = self.sentinel\n",
    "\n",
    "        self.sentinel.next = self.sentinel\n",
    "        self.sentinel.prev = self.sentinel\n",
    "    \n",
    "    def __repr__(self):\n",
    "        \n",
    "        if self.sentinel.next == self.sentinel:\n",
    "            return 'LL: ' + self.head.next.__repr__() + ' (Empty)'\n",
    "        else:         \n",
    "            \n",
    "            p = self.sentinel.next\n",
    "            se = [p.__repr__()]\n",
    "            \n",
    "            while(p.next != self.sentinel):\n",
    "\n",
    "                se.append(p.next.__repr__())\n",
    "                p = p.next\n",
    "                \n",
    "            s = ' -> '.join(se)\n",
    "            \n",
    "            return 'LL: ' + s\n",
    "\n",
    "    def lastNode(self):\n",
    "        \n",
    "        pointer = self.head.next\n",
    "        \n",
    "        while(type(pointer.next) != Sentinel):\n",
    "            pointer = pointer.next\n",
    "\n",
    "        return pointer\n",
    "    \n",
    "    def insert(self, node):\n",
    "\n",
    "        # insert at head, after the sentinel\n",
    "        sentinel = self.head.next\n",
    "\n",
    "        # we want to change\n",
    "        #       |----|\n",
    "        # H -> S <-> O\n",
    "        # with H head, S sentinel, O old first node\n",
    "        # to\n",
    "        #      |------------|\n",
    "        # H -> S <-> N <-> O\n",
    "\n",
    "        # sentinel was pointing to old first element\n",
    "        # node becomes first element thus points to old first element\n",
    "        # S -> O becomes S->O, N->O (both point to old)\n",
    "        node.next = sentinel.next\n",
    "\n",
    "        # the element previous to the first element\n",
    "        # becomes the node\n",
    "        # N <- O\n",
    "        sentinel.next.prev = node\n",
    "\n",
    "        # the element after the sentinel becomes the node\n",
    "        # S -> N\n",
    "        sentinel.next = node\n",
    "\n",
    "        # the node points back to the sentinel\n",
    "        node.prev = sentinel\n",
    "        # S <- N"
   ]
  },
  {
   "cell_type": "code",
   "execution_count": 14,
   "id": "be784016-b37c-4a57-9cc2-ae5513495c2f",
   "metadata": {},
   "outputs": [],
   "source": [
    "def testInsertFirstElement():\n",
    "\n",
    "    n1 = Node(1)\n",
    "    ll = LinkedList()\n",
    "\n",
    "    ll.insert(n1)\n",
    "\n",
    "    assert ll.head.next == ll.sentinel\n",
    "    assert ll.head.next.next == n1\n",
    "    assert n1.next == ll.sentinel\n",
    "    assert n1.prev == ll.sentinel\n",
    "    \n",
    "    "
   ]
  },
  {
   "cell_type": "code",
   "execution_count": 15,
   "id": "36fb9975-cf19-4b9d-b717-17e3acc9198f",
   "metadata": {},
   "outputs": [],
   "source": [
    "n1 = Node(1)\n",
    "n2 = Node(2)\n",
    "n3 = Node(3)\n",
    "\n",
    "s = Sentinel()\n",
    "\n",
    "h = Head(n1)\n",
    "\n",
    "ll = LinkedList()\n"
   ]
  },
  {
   "cell_type": "code",
   "execution_count": 16,
   "id": "f55bf7bd-5677-4123-bb35-d710846a7461",
   "metadata": {},
   "outputs": [
    {
     "data": {
      "text/plain": [
       "LL: Sentinel (Empty)"
      ]
     },
     "execution_count": 16,
     "metadata": {},
     "output_type": "execute_result"
    }
   ],
   "source": [
    "ll"
   ]
  },
  {
   "cell_type": "code",
   "execution_count": 17,
   "id": "22d35135-25e2-4ffb-b4a9-c0edf483ee57",
   "metadata": {},
   "outputs": [],
   "source": [
    "testInsertFirstElement()"
   ]
  },
  {
   "cell_type": "code",
   "execution_count": 18,
   "id": "44bf93ab-788f-43da-92eb-d9488e9e89fb",
   "metadata": {},
   "outputs": [
    {
     "data": {
      "text/plain": [
       "Sentinel"
      ]
     },
     "execution_count": 18,
     "metadata": {},
     "output_type": "execute_result"
    }
   ],
   "source": [
    "ll.lastNode()"
   ]
  },
  {
   "cell_type": "code",
   "execution_count": 19,
   "id": "1583f185-9c94-4eae-88ca-5e2d2371c324",
   "metadata": {},
   "outputs": [
    {
     "data": {
      "text/plain": [
       "LL: Sentinel (Empty)"
      ]
     },
     "execution_count": 19,
     "metadata": {},
     "output_type": "execute_result"
    }
   ],
   "source": [
    "ll"
   ]
  },
  {
   "cell_type": "code",
   "execution_count": 20,
   "id": "880abc34-4ba0-43b7-a352-32c0f1911a37",
   "metadata": {},
   "outputs": [
    {
     "data": {
      "text/plain": [
       "LL: (1)"
      ]
     },
     "execution_count": 20,
     "metadata": {},
     "output_type": "execute_result"
    }
   ],
   "source": [
    "ll.insert(n1)\n",
    "ll"
   ]
  },
  {
   "cell_type": "code",
   "execution_count": 21,
   "id": "547ecb17-ee32-4174-9780-cd5bf763d0f1",
   "metadata": {},
   "outputs": [
    {
     "data": {
      "text/plain": [
       "LL: (2) -> (1)"
      ]
     },
     "execution_count": 21,
     "metadata": {},
     "output_type": "execute_result"
    }
   ],
   "source": [
    "ll.insert(n2)\n",
    "ll"
   ]
  },
  {
   "cell_type": "code",
   "execution_count": 25,
   "id": "1e6e41a4-47cd-43cc-8aa6-1e558baa888c",
   "metadata": {},
   "outputs": [
    {
     "data": {
      "text/plain": [
       "(2)"
      ]
     },
     "execution_count": 25,
     "metadata": {},
     "output_type": "execute_result"
    }
   ],
   "source": [
    "ll.head.next.next.next.next.next"
   ]
  },
  {
   "cell_type": "code",
   "execution_count": null,
   "id": "dacaa42b-b443-4c05-8f6b-0efc6e0af265",
   "metadata": {},
   "outputs": [],
   "source": []
  },
  {
   "cell_type": "code",
   "execution_count": null,
   "id": "d1ba5021-5ec0-4b58-9cc4-600392259421",
   "metadata": {},
   "outputs": [],
   "source": []
  }
 ],
 "metadata": {
  "kernelspec": {
   "display_name": "Python 3 (ipykernel)",
   "language": "python",
   "name": "python3"
  },
  "language_info": {
   "codemirror_mode": {
    "name": "ipython",
    "version": 3
   },
   "file_extension": ".py",
   "mimetype": "text/x-python",
   "name": "python",
   "nbconvert_exporter": "python",
   "pygments_lexer": "ipython3",
   "version": "3.10.12"
  }
 },
 "nbformat": 4,
 "nbformat_minor": 5
}
