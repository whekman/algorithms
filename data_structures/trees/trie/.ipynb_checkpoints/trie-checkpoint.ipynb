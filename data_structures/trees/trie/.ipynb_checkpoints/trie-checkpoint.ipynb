{
 "cells": [
  {
   "cell_type": "code",
   "execution_count": 17,
   "id": "cb6ebae4-9fa7-4f71-abe0-eeedbacba46e",
   "metadata": {},
   "outputs": [],
   "source": [
    "\n",
    "class TrieNode:\n",
    "    def __init__(self):\n",
    "        \n",
    "        # in C this would be an array of pointers to node structs\n",
    "        # struct TrieNode[26]\n",
    "        \n",
    "        self.children = {}\n",
    "\n",
    "        # if this node is the end of a word then\n",
    "        # all nodes leading up to and INCLUDING this nodes\n",
    "        # child (pointing to NIL) will make a string\n",
    "        self.endOfWord = False\n",
    "\n",
    "    def print(self, mem=\"\"):\n",
    "\n",
    "        if self.endOfWord:\n",
    "            print(mem)\n",
    "            return\n",
    "        \n",
    "        for key, node in self.children.items():\n",
    "            _mem = mem + key\n",
    "            node.print(_mem)\n",
    "            \n",
    "\n",
    "class Trie:\n",
    "    def __init__(self):\n",
    "        self.root = TrieNode()\n",
    "\n",
    "    def insert(self, word):\n",
    "\n",
    "        cur = self.root\n",
    "\n",
    "        for c in word:\n",
    "            \n",
    "            if c not in cur.children:\n",
    "                # move pointers\n",
    "                cur.children[c] = TrieNode()\n",
    "            \n",
    "            cur = cur.children[c]\n",
    "\n",
    "        cur.endOfWord = True\n",
    "\n",
    "    def search(word):\n",
    "\n",
    "        cur = self.root\n",
    "\n",
    "        for c in word:\n",
    "            \n",
    "            if c not in cur.children:\n",
    "                return False\n",
    "            else:\n",
    "                cur = cur.children[c]\n",
    "                \n",
    "\n",
    "    "
   ]
  },
  {
   "cell_type": "code",
   "execution_count": 20,
   "id": "3f8d2320-54e9-458f-8f3c-e786de4cd07f",
   "metadata": {},
   "outputs": [
    {
     "data": {
      "text/plain": [
       "dict_items([('b', 3), ('a', 2)])"
      ]
     },
     "execution_count": 20,
     "metadata": {},
     "output_type": "execute_result"
    }
   ],
   "source": [
    "d = {}\n",
    "d['b'] = 3\n",
    "d['a'] = 2\n",
    "d.items()"
   ]
  },
  {
   "cell_type": "code",
   "execution_count": 14,
   "id": "b3ccfe3a-a269-43f1-8f7b-6c526b924afb",
   "metadata": {},
   "outputs": [],
   "source": [
    "T = Trie()"
   ]
  },
  {
   "cell_type": "code",
   "execution_count": 21,
   "id": "d1f7b28b-5af5-4c10-86ba-7c2a68ab94e9",
   "metadata": {},
   "outputs": [
    {
     "name": "stdout",
     "output_type": "stream",
     "text": [
      "ape\n",
      "app\n",
      "arrogant\n",
      "asshole\n",
      "able\n",
      "blue\n"
     ]
    }
   ],
   "source": [
    "words = ['able','ape','apple','app','arrogant','asshole','blue']\n",
    "words.sort()\n",
    "\n",
    "for word in words:\n",
    "    T.insert(word)\n",
    "    \n",
    "T.root.print()"
   ]
  },
  {
   "cell_type": "code",
   "execution_count": 21,
   "id": "226e5c86-8f39-43ee-9e28-4bfd4a764c53",
   "metadata": {},
   "outputs": [
    {
     "data": {
      "text/plain": [
       "{'p': <__main__.TrieNode at 0x7f75c02822c0>}"
      ]
     },
     "execution_count": 21,
     "metadata": {},
     "output_type": "execute_result"
    }
   ],
   "source": [
    "T.root.children['a'].children"
   ]
  },
  {
   "cell_type": "code",
   "execution_count": 17,
   "id": "f8821872-5ec0-48b0-bb10-1c924771805c",
   "metadata": {},
   "outputs": [],
   "source": [
    "n = TrieNode()"
   ]
  },
  {
   "cell_type": "code",
   "execution_count": 18,
   "id": "cae0a929-1acc-40e3-9ffc-0e39d52a2842",
   "metadata": {},
   "outputs": [
    {
     "data": {
      "text/plain": [
       "1"
      ]
     },
     "execution_count": 18,
     "metadata": {},
     "output_type": "execute_result"
    }
   ],
   "source": [
    "alphaVal('A')"
   ]
  },
  {
   "cell_type": "code",
   "execution_count": null,
   "id": "474eb2dd-4802-4820-9490-08a4d8521a2b",
   "metadata": {},
   "outputs": [],
   "source": []
  }
 ],
 "metadata": {
  "kernelspec": {
   "display_name": "Python 3 (ipykernel)",
   "language": "python",
   "name": "python3"
  },
  "language_info": {
   "codemirror_mode": {
    "name": "ipython",
    "version": 3
   },
   "file_extension": ".py",
   "mimetype": "text/x-python",
   "name": "python",
   "nbconvert_exporter": "python",
   "pygments_lexer": "ipython3",
   "version": "3.10.12"
  }
 },
 "nbformat": 4,
 "nbformat_minor": 5
}
