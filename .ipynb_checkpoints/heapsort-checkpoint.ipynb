{
 "cells": [
  {
   "cell_type": "markdown",
   "id": "79fef9ca-bf82-4ace-9cec-701ef2f16976",
   "metadata": {},
   "source": [
    "# Heapsort"
   ]
  },
  {
   "cell_type": "raw",
   "id": "b1baa6ba-950c-4419-b31e-a39f6971b552",
   "metadata": {},
   "source": [
    "Maintains values in a heap-structured array:\n",
    "\n",
    "i parent -> i left child = 2*i\n",
    "i parent -> i right child = 2*i + 1\n",
    "\n",
    "So the leaves are ordered in a L = even, R = odd manner eg i = 2 is the first node left of the root.\n",
    "\n",
    "Grows in size 1 3 7 15 .. with 1 2 4 8 ... nodes max per depth.\n",
    "\n",
    "Accordingly the leaves are at i = n/2 and onward with n the array length."
   ]
  },
  {
   "cell_type": "code",
   "execution_count": 190,
   "id": "c963e8c3-70b4-41c6-a7b7-f5caa16358c6",
   "metadata": {},
   "outputs": [],
   "source": [
    "\n",
    "# need to deal with the zero-indexing here...\n",
    "def parent(i):\n",
    "    return int(i/2)\n",
    "\n",
    "def left(i):\n",
    "    return 2*(i+1)-1\n",
    "\n",
    "def right(i):\n",
    "    return 2*(i+1)"
   ]
  },
  {
   "cell_type": "code",
   "execution_count": 191,
   "id": "f1d1a8a4-d77b-44dd-b103-556b4d4f06b9",
   "metadata": {},
   "outputs": [
    {
     "data": {
      "text/plain": [
       "1"
      ]
     },
     "execution_count": 191,
     "metadata": {},
     "output_type": "execute_result"
    }
   ],
   "source": [
    "parent(3)"
   ]
  },
  {
   "cell_type": "code",
   "execution_count": 192,
   "id": "73a5f00c-81f3-4000-90c5-de395f3943f0",
   "metadata": {},
   "outputs": [
    {
     "data": {
      "text/plain": [
       "(1, 2)"
      ]
     },
     "execution_count": 192,
     "metadata": {},
     "output_type": "execute_result"
    }
   ],
   "source": [
    "left(0), right(0)"
   ]
  },
  {
   "cell_type": "code",
   "execution_count": 193,
   "id": "954c94f8-97c9-4073-a863-cc79074e7721",
   "metadata": {},
   "outputs": [
    {
     "data": {
      "text/plain": [
       "(3, 4)"
      ]
     },
     "execution_count": 193,
     "metadata": {},
     "output_type": "execute_result"
    }
   ],
   "source": [
    "left(1), right(1)"
   ]
  },
  {
   "cell_type": "code",
   "execution_count": 194,
   "id": "998fbc08-27d0-4551-8c3c-ff1905a5c41a",
   "metadata": {},
   "outputs": [],
   "source": [
    "def max_heapify(A, i, hs):\n",
    "\n",
    "    # idea: move down and check if\n",
    "    # we are in max-heap order:\n",
    "    # value should decrease if we go down\n",
    "    # accordingly\n",
    "    # if we come across a larger value then the root\n",
    "    # swap this value with root value\n",
    "    \n",
    "    l = left(i)\n",
    "    r = right(i)\n",
    "\n",
    "    # index of the largest value seen thus far down\n",
    "    L = 0\n",
    "\n",
    "    # Swap down left?\n",
    "    # 0-index thus hs-1\n",
    "    if l <= (hs-1) and A[l] > A[i]:\n",
    "        L = l\n",
    "    else:\n",
    "        L = i\n",
    "\n",
    "    # Swap down right?\n",
    "    # Note: A[r] > A[L] saves us an if statement A[r] > A[i]\n",
    "    if r <= (hs-1) and A[r] > A[L]:\n",
    "        L = r\n",
    "\n",
    "    # If we need to swap...\n",
    "    if L != i:\n",
    "        \n",
    "        _ = A[i]\n",
    "        A[i] = A[L]\n",
    "        A[L] = _\n",
    "\n",
    "        max_heapify(A, L, hs)\n",
    "        "
   ]
  },
  {
   "cell_type": "code",
   "execution_count": 195,
   "id": "01cbbc26-2fcb-40e7-8c8e-091803abd9ef",
   "metadata": {},
   "outputs": [],
   "source": [
    "def print_heap(A, i, indent=0, hs=None):\n",
    "    \n",
    "    print(indent*'\\t',\"{:} ({:})\".format(A[i], i))\n",
    "    \n",
    "    l = left(i)\n",
    "    r = right(i)\n",
    "\n",
    "    if hs is None:\n",
    "        hs = len(A)      \n",
    "    \n",
    "    if l < hs:\n",
    "        print_heap(A, l, indent = indent + 1, hs=hs)\n",
    "    if r < hs:\n",
    "        print_heap(A, r, indent = indent + 1, hs=hs)\n",
    "\n",
    "\n",
    "def build_max_heap(A):\n",
    "    hs = len(A)\n",
    "    i = int(hs/2) -1\n",
    "    \n",
    "    while i >= 0:\n",
    "        max_heapify(A, i, hs)    \n",
    "        i -= 1\n",
    "\n",
    "    return A\n"
   ]
  },
  {
   "cell_type": "code",
   "execution_count": 204,
   "id": "ae9c6470-bfec-412a-a0e5-c057bb0f1dea",
   "metadata": {},
   "outputs": [
    {
     "name": "stdout",
     "output_type": "stream",
     "text": [
      "h: 3.169925001442312 \n",
      "\n",
      " 9 (0)\n",
      "\t 8 (1)\n",
      "\t\t 4 (3)\n",
      "\t\t\t 2 (7)\n",
      "\t\t\t 1 (8)\n",
      "\t\t 5 (4)\n",
      "\t 7 (2)\n",
      "\t\t 6 (5)\n",
      "\t\t 3 (6)\n"
     ]
    },
    {
     "data": {
      "text/plain": [
       "[9, 8, 7, 4, 5, 6, 3, 2, 1]"
      ]
     },
     "execution_count": 204,
     "metadata": {},
     "output_type": "execute_result"
    }
   ],
   "source": [
    "import math\n",
    "\n",
    "A = [1,2,3,4,5,6,7,8,9]\n",
    "hs = len(A)\n",
    "height = math.log2(hs)\n",
    "\n",
    "print(\"h:\", height,'\\n')\n",
    "\n",
    "build_max_heap(A)\n",
    "\n",
    "max_heapify(A,1,7)\n",
    "max_heapify(A,0,7)\n",
    "\n",
    "print_heap(A, 0)\n",
    "A"
   ]
  },
  {
   "cell_type": "code",
   "execution_count": 205,
   "id": "7444663a-acde-4655-9dc3-4d39be42f5af",
   "metadata": {},
   "outputs": [],
   "source": [
    "def heapsort(A, verbose = False):\n",
    "    \n",
    "    hs = len(A)\n",
    "    \n",
    "    build_max_heap(A)\n",
    "\n",
    "    # start at last index\n",
    "    i = hs - 1\n",
    "    \n",
    "    while i > 0:\n",
    "\n",
    "        if verbose:\n",
    "            print(\"A[{:}] = {:} <--> A[0]={:}\\n\".format(i, A[i], A[0]))\n",
    "        \n",
    "        _ = A[i]\n",
    "        A[i] = A[0]\n",
    "        A[0] = _\n",
    "\n",
    "        hs -= 1\n",
    "\n",
    "        max_heapify(A, 0, hs)\n",
    "\n",
    "        if verbose:\n",
    "            print_heap(A, 0, hs=hs)\n",
    "            print(\"\\n\")\n",
    "            \n",
    "        i -= 1\n",
    "    "
   ]
  },
  {
   "cell_type": "code",
   "execution_count": 206,
   "id": "f0a48840-e87a-4333-8b7d-d1f51c87601b",
   "metadata": {},
   "outputs": [
    {
     "name": "stdout",
     "output_type": "stream",
     "text": [
      " 5 (0)\n",
      "\t 4 (1)\n",
      "\t\t 1 (3)\n",
      "\t\t 2 (4)\n",
      "\t 3 (2)\n"
     ]
    }
   ],
   "source": [
    "A = [1,2,3,4,5]\n",
    "build_max_heap(A)\n",
    "\n",
    "print_heap(A,0)"
   ]
  },
  {
   "cell_type": "code",
   "execution_count": 207,
   "id": "79cc4e87-2e8c-42f6-8363-16c184446929",
   "metadata": {},
   "outputs": [
    {
     "name": "stdout",
     "output_type": "stream",
     "text": [
      " 5 (0)\n",
      "\t 4 (1)\n",
      "\t\t 1 (3)\n",
      "\t\t 2 (4)\n",
      "\t 3 (2)\n"
     ]
    }
   ],
   "source": [
    "max_heapify(A, 0, 5)\n",
    "\n",
    "print_heap(A, 0, hs=5)"
   ]
  },
  {
   "cell_type": "code",
   "execution_count": 210,
   "id": "8a7937ce-15a2-486d-9bbb-dafeadca389d",
   "metadata": {},
   "outputs": [],
   "source": [
    "A = [8,7,6,5,4,3,2,1]\n",
    "heapsort(A)"
   ]
  },
  {
   "cell_type": "code",
   "execution_count": 211,
   "id": "02f96dcf-19c8-48d2-891a-916802822e0d",
   "metadata": {},
   "outputs": [
    {
     "data": {
      "text/plain": [
       "[1, 2, 3, 4, 5, 6, 7, 8]"
      ]
     },
     "execution_count": 211,
     "metadata": {},
     "output_type": "execute_result"
    }
   ],
   "source": [
    "A"
   ]
  },
  {
   "cell_type": "code",
   "execution_count": null,
   "id": "1c3efd76-d6b6-432e-9327-c0682521152d",
   "metadata": {},
   "outputs": [],
   "source": []
  },
  {
   "cell_type": "code",
   "execution_count": null,
   "id": "fb6e4106-5d44-47b7-8008-379ddd5157ee",
   "metadata": {},
   "outputs": [],
   "source": []
  }
 ],
 "metadata": {
  "kernelspec": {
   "display_name": "Python 3 (ipykernel)",
   "language": "python",
   "name": "python3"
  },
  "language_info": {
   "codemirror_mode": {
    "name": "ipython",
    "version": 3
   },
   "file_extension": ".py",
   "mimetype": "text/x-python",
   "name": "python",
   "nbconvert_exporter": "python",
   "pygments_lexer": "ipython3",
   "version": "3.10.12"
  }
 },
 "nbformat": 4,
 "nbformat_minor": 5
}
