{
 "cells": [
  {
   "cell_type": "markdown",
   "id": "db78365a-8c01-4c2f-a86e-1fb2e77cc069",
   "metadata": {},
   "source": [
    "# Radix Sort"
   ]
  },
  {
   "cell_type": "raw",
   "id": "0caa988e-9d2a-41b0-ac97-d055350b9844",
   "metadata": {},
   "source": [
    "This approach uses bins.\n",
    "\n",
    "Similar to how you'd sort playing cards by suit, and then rank.\n",
    "\n",
    "1. Define bins e.g. club, spades, heart, diamonds\n",
    "2. Take the key and put in right bin.\n",
    "3. Combine keys again and they are (partially)-sorted.\n",
    "4. Start at 1. again possibly using otherSo, I have questioned. Now I will quit cogitating and drive to the barn with my large bag of carrots, brush my horse, rub his face and behind his ears with a towel, show him my love and then respectfully request that he indulge me for an hour. bins.\n",
    "\n",
    "Note, main downside. May require lots of memory: mem = n x nbins.\n",
    "\n",
    "Works better than comparison sorts for keys that are made up out of a fixed number of sub-keys,\n",
    "give that the sub-keys have a limited range of values (=bins).\n",
    "\n",
    "Works well e.g. for binary indices such as 1001:\n",
    "\n",
    "You only need 2 bins (0 and 1) for the (2n x keys) temporary memory.\n",
    "\n",
    "We can do with less memory by queues for the 0 and 1 results from both ends.\n",
    "Also no need to combine queues.\n",
    "\n",
    "Note: we can also sort the addresses/pointers of the keys instead of the keys themselves.\n",
    "\n",
    "For more info see eg:\n",
    "\n",
    "https://duvanenko.tech.blog/\n",
    "https://ece.uwaterloo.ca/~dwharder/aads/Algorithms/Sorting/Binary_radix_sort/\n"
   ]
  },
  {
   "cell_type": "code",
   "execution_count": 46,
   "id": "d8605564-d095-47ca-b936-3e090ca838de",
   "metadata": {},
   "outputs": [],
   "source": [
    "def to_bin(i, n):\n",
    "    s = bin(i)\n",
    "    pad = n - len(s) + 2\n",
    "    s = pad*'0' + s[2:]\n",
    "    return s\n",
    "\n",
    "D = [12,11,10,10,9,8,7,5,4,2,1,1]\n",
    "B = [to_bin(x, 8) for x in D] \n",
    "\n",
    "A = B"
   ]
  },
  {
   "cell_type": "code",
   "execution_count": 47,
   "id": "7f47d96d-38a3-4605-bc2f-35d2034c370e",
   "metadata": {},
   "outputs": [
    {
     "data": {
      "text/plain": [
       "['00001100',\n",
       " '00001011',\n",
       " '00001010',\n",
       " '00001010',\n",
       " '00001001',\n",
       " '00001000',\n",
       " '00000111',\n",
       " '00000101',\n",
       " '00000100',\n",
       " '00000010',\n",
       " '00000001',\n",
       " '00000001']"
      ]
     },
     "execution_count": 47,
     "metadata": {},
     "output_type": "execute_result"
    }
   ],
   "source": [
    "A"
   ]
  },
  {
   "cell_type": "code",
   "execution_count": 55,
   "id": "72ed47d1-5c0d-410e-904e-30d319a0e5a8",
   "metadata": {},
   "outputs": [
    {
     "name": "stdout",
     "output_type": "stream",
     "text": [
      "7\n"
     ]
    }
   ],
   "source": [
    "\n",
    "_ = '0'*len(A[0])\n",
    "\n",
    "# the two queues\n",
    "bin_0 = [] < tail_0\n",
    "bin_1 = []\n",
    "\n",
    "# index of least-significant sub-key\n",
    "i = len(A[0]) - 1\n",
    "\n",
    "# iterate over sub-key indices\n",
    "# from least to most significant sub-key\n",
    "#while(i >= 0):\n",
    "\n",
    "# indices of bins holding the values\n",
    "# better would be to use (could also be queues)\n",
    "i0 = 0\n",
    "i1 = 0\n",
    "\n",
    "print(i)\n",
    "\n",
    "while(i > -1):\n",
    "    # run through the array to be sorted\n",
    "    \n",
    "    for j in range(0,len(A)):\n",
    "        \n",
    "        if A[j][i] == '0':\n",
    "            bin_0.append(A[j])\n",
    "        \n",
    "        else:\n",
    "            bin_1.append(A[j])\n",
    "    \n",
    "    A = bin_0 + bin_1\n",
    "    \n",
    "    bin_0 = []\n",
    "    bin_1 = []\n",
    "    \n",
    "    i -= 1"
   ]
  },
  {
   "cell_type": "code",
   "execution_count": 56,
   "id": "421d97de-fdf7-4db8-b85a-dc9eedc95b87",
   "metadata": {},
   "outputs": [
    {
     "data": {
      "text/plain": [
       "['00000001',\n",
       " '00000001',\n",
       " '00000010',\n",
       " '00000100',\n",
       " '00000101',\n",
       " '00000111',\n",
       " '00001000',\n",
       " '00001001',\n",
       " '00001010',\n",
       " '00001010',\n",
       " '00001011',\n",
       " '00001100']"
      ]
     },
     "execution_count": 56,
     "metadata": {},
     "output_type": "execute_result"
    }
   ],
   "source": [
    "A"
   ]
  },
  {
   "cell_type": "code",
   "execution_count": 54,
   "id": "74bbccb9-933c-4a14-92b0-dfb01d6dcec4",
   "metadata": {},
   "outputs": [
    {
     "data": {
      "text/plain": [
       "[1, 1, 2, 4, 5, 7, 8, 9, 10, 10, 11, 12]"
      ]
     },
     "execution_count": 54,
     "metadata": {},
     "output_type": "execute_result"
    }
   ],
   "source": [
    "[int(x,2) for x in A]"
   ]
  },
  {
   "cell_type": "code",
   "execution_count": null,
   "id": "42d7a3fe-bebc-4f3a-b0a4-cb7306a8e71f",
   "metadata": {},
   "outputs": [],
   "source": []
  }
 ],
 "metadata": {
  "kernelspec": {
   "display_name": "Python 3 (ipykernel)",
   "language": "python",
   "name": "python3"
  },
  "language_info": {
   "codemirror_mode": {
    "name": "ipython",
    "version": 3
   },
   "file_extension": ".py",
   "mimetype": "text/x-python",
   "name": "python",
   "nbconvert_exporter": "python",
   "pygments_lexer": "ipython3",
   "version": "3.10.12"
  }
 },
 "nbformat": 4,
 "nbformat_minor": 5
}
