{
 "cells": [
  {
   "cell_type": "markdown",
   "id": "27ee1877-e466-480e-b911-8aff484e1c32",
   "metadata": {},
   "source": [
    "# Merge Sort"
   ]
  },
  {
   "cell_type": "raw",
   "id": "86f332d9-c778-49a5-8f7f-e32f41881b8c",
   "metadata": {},
   "source": [
    "First recursively split up the array into halves untill you are left with 1-length arrays.\n",
    "Then recurse back up and merge the halves back with eachother in sorted order.\n",
    "\n",
    "So we have\n",
    "\n",
    "Merge Sort(A,n) which has O(n lg n) runtime.\n",
    "\n",
    "If len(A > 1) split-sort A:\n",
    "        Merge Sort Left Halve\n",
    "        Merge Sort Right Halve\n",
    "        Merge Halves\n",
    "else:\n",
    "    We are at a leaf, so nothing to sort...\n",
    "\n",
    "Notes: Some silly bugs I ran into\n",
    "- starting to replace values not setting k = p (forgot)\n",
    "- only putting in leftover values for the left portion\n",
    "as I had copied this code for the right portion forgetting to change some values (i!=j)"
   ]
  },
  {
   "cell_type": "code",
   "execution_count": 43,
   "id": "1289a390-0f7c-437b-b391-d3658b582262",
   "metadata": {},
   "outputs": [],
   "source": [
    "\n",
    "A = [6,8,1,4,3,7,2,5]\n",
    "\n",
    "\n",
    "def merge_sort(A, p, r):\n",
    "    \"\"\"Sort the array A's values in place at indices p till r.\n",
    "\n",
    "    E.g merge_sort(A, 0, 8) sorts the first 8 values (0 till 7).\n",
    "    \"\"\"\n",
    "    \n",
    "    # leaf nodes... nothing to sort\n",
    "    if (r - p) <= 1:\n",
    "        \n",
    "        pass\n",
    "    \n",
    "    else:\n",
    "        # eg p = 0; r = 8 -> q = 4\n",
    "        q = int((p + r) / 2) \n",
    "\n",
    "        # gives A[0:4] (first 4 values: i = 0,1,2,3)\n",
    "        merge_sort(A, p, q)\n",
    "\n",
    "        # and A[4:8] (last p-q=4 values: i = 4,5,6,7)\n",
    "        merge_sort(A, q, r)\n",
    "\n",
    "        merge_A(A, p, q, r)\n",
    "    \n",
    "def merge_B(A, p, q, r, sentinel=1000000):\n",
    "    \"\"\" Merge the values of two sub-array's of A:\n",
    "    a left portion A[p:q] is merged with A[q:r].\n",
    "    \n",
    "    ASSUMES these portions are sorted in ascending order\n",
    "    and MAX VALUE in the array is 1000000*.\n",
    "    \n",
    "    *Uses the sentinel trick (see CLRS) \"\"\"\n",
    "\n",
    "    L = A[p:q]\n",
    "    R = A[q:r]\n",
    "\n",
    "    # the sentinels...\n",
    "    L.append(sentinel)\n",
    "    R.append(sentinel)\n",
    "\n",
    "    i = 0\n",
    "    j = 0\n",
    "\n",
    "    for k in range(p, r):\n",
    "\n",
    "        # main case\n",
    "        if L[i] <= R[j]:\n",
    "\n",
    "            A[k] = L[i]\n",
    "            i += 1\n",
    "        else:\n",
    "\n",
    "            A[k] = R[j]\n",
    "            j += 1\n",
    "\n",
    "\n",
    "def merge_A(A, p, q, r):\n",
    "    \"\"\"\n",
    "    Merge the values of two sub-array's of A:\n",
    "    a left portion A[p:q] is merged with A[q:r].\n",
    "    \n",
    "    ASSUMES these portions are sorted in ascending order\n",
    "    \n",
    "    NOTE: Runs a slower than merge B due to extra comparisons.\"\"\"\n",
    "\n",
    "    # Here python makes temporary copies\n",
    "    # of the left and right halves to be merged\n",
    "    L = A[p:q]\n",
    "    R = A[q:r]    \n",
    "\n",
    "    # indices for iterating over L and R respectively\n",
    "    i = 0\n",
    "    j = 0\n",
    "    \n",
    "    # array length s.t. index < length should hold\n",
    "    # eg q = 4, p = 0\n",
    "    # --> iL = 4 - 0 = 4\n",
    "    # i = 0, 1, 2, 3 < 4\n",
    "    iL = q - p\n",
    "    jL = r - q\n",
    "\n",
    "    # array index: at this index the first value will be placed\n",
    "    k = p\n",
    "\n",
    "    # we could also solve \"running out of the array\"\n",
    "    # both approaches have pros/cons\n",
    "    # by placing \"infinite\" value sentinels\n",
    "    # see CLRS for this approach    \n",
    "    while(i < iL and j < jL):\n",
    "\n",
    "        # place values at correct places\n",
    "        if L[i] <= R[j]:\n",
    "            \n",
    "            A[k] = L[i]\n",
    "            i += 1\n",
    "            \n",
    "        else:\n",
    "            \n",
    "            A[k] = R[j]\n",
    "            j += 1\n",
    "            \n",
    "        k += 1\n",
    "\n",
    "    \n",
    "    # place any leftover values\n",
    "    # maybe an ugly approach but clear, in a way\n",
    "    while(i < iL):\n",
    "        \n",
    "        A[k] = L[i]\n",
    "        \n",
    "        i += 1\n",
    "        k += 1\n",
    "        \n",
    "\n",
    "    while(j < jL):\n",
    "        \n",
    "        A[k] = R[j]\n",
    "        \n",
    "        j += 1\n",
    "        k += 1"
   ]
  },
  {
   "cell_type": "code",
   "execution_count": 44,
   "id": "b27fe1a0-2a6f-436f-9569-ff53d53e3abc",
   "metadata": {},
   "outputs": [
    {
     "data": {
      "text/plain": [
       "[1, 2, 3, 4]"
      ]
     },
     "execution_count": 44,
     "metadata": {},
     "output_type": "execute_result"
    }
   ],
   "source": [
    "B = [1,2,3,4]\n",
    "\n",
    "merge_A(B, 0, 2, 4)\n",
    "\n",
    "B"
   ]
  },
  {
   "cell_type": "code",
   "execution_count": 45,
   "id": "b03dc33c-66d5-4f47-967b-0ccd6405d677",
   "metadata": {},
   "outputs": [
    {
     "data": {
      "text/plain": [
       "[1, 2]"
      ]
     },
     "execution_count": 45,
     "metadata": {},
     "output_type": "execute_result"
    }
   ],
   "source": [
    "B = [2,1]\n",
    "\n",
    "merge_A(B, 0, 1, 2)\n",
    "\n",
    "B"
   ]
  },
  {
   "cell_type": "code",
   "execution_count": 46,
   "id": "ad25b662-5533-496c-9c9e-786717693e23",
   "metadata": {},
   "outputs": [
    {
     "name": "stdout",
     "output_type": "stream",
     "text": [
      "[1, 2, 3, 4, 5, 6, 7, 8]\n"
     ]
    }
   ],
   "source": [
    "A = [8,7,6,5,4,3,2,1]\n",
    "merge_sort(A, 0, 8)\n",
    "print(A)"
   ]
  },
  {
   "cell_type": "code",
   "execution_count": 47,
   "id": "3b46d7f3-e431-4c2f-a18b-cf9478ec8d38",
   "metadata": {},
   "outputs": [
    {
     "data": {
      "text/plain": [
       "[1, 2, 3, 4, 5, 6, 7, 8]"
      ]
     },
     "execution_count": 47,
     "metadata": {},
     "output_type": "execute_result"
    }
   ],
   "source": [
    "A"
   ]
  },
  {
   "cell_type": "markdown",
   "id": "52d06f54-c385-4e02-a843-3fc5b4f63d0d",
   "metadata": {},
   "source": [
    "# Comparing A/B"
   ]
  },
  {
   "cell_type": "code",
   "execution_count": 48,
   "id": "3eed2e1b-ba99-4f2d-be8c-16f4e3a54179",
   "metadata": {},
   "outputs": [],
   "source": [
    "import timeit"
   ]
  },
  {
   "cell_type": "code",
   "execution_count": 49,
   "id": "f2ba69fe-2ed8-4e93-805b-73461578699e",
   "metadata": {},
   "outputs": [
    {
     "name": "stdout",
     "output_type": "stream",
     "text": [
      "Program Executed in 0.00015432600002895924\n",
      "[1, 2, 3, 4]\n"
     ]
    }
   ],
   "source": [
    "start = timeit.default_timer()\n",
    "\n",
    "B = [3,4,1,2]\n",
    "\n",
    "merge_A(B, 0, 2, 4)\n",
    "\n",
    "\n",
    "# All the program statements\n",
    "stop = timeit.default_timer()\n",
    "execution_time = stop - start\n",
    "\n",
    "print(\"Program Executed in \"+str(execution_time)) # It returns time in seconds\n",
    "\n",
    "print(B)"
   ]
  },
  {
   "cell_type": "code",
   "execution_count": 50,
   "id": "6591d5b0-b1ce-4d08-a31d-85c40089638e",
   "metadata": {},
   "outputs": [
    {
     "name": "stdout",
     "output_type": "stream",
     "text": [
      "Program Executed in 0.00014314700001705205\n",
      "[1, 2, 3, 4]\n"
     ]
    }
   ],
   "source": [
    "start = timeit.default_timer()\n",
    "\n",
    "B = [3,4,1,2]\n",
    "\n",
    "merge_B(B, 0, 2, 4)\n",
    "\n",
    "# All the program statements\n",
    "stop = timeit.default_timer()\n",
    "execution_time = stop - start\n",
    "\n",
    "print(\"Program Executed in \"+str(execution_time)) # It returns time in seconds\n",
    "\n",
    "print(B)"
   ]
  },
  {
   "cell_type": "code",
   "execution_count": 51,
   "id": "869ebc54-ec6a-480d-a2c7-b882644aa0e2",
   "metadata": {},
   "outputs": [
    {
     "data": {
      "text/plain": [
       "[2, 3, 5, 7]"
      ]
     },
     "execution_count": 51,
     "metadata": {},
     "output_type": "execute_result"
    }
   ],
   "source": [
    "B = [3, 7, 2, 5]\n",
    "\n",
    "merge_A(B, 0, 2, 4)\n",
    "B"
   ]
  },
  {
   "cell_type": "code",
   "execution_count": null,
   "id": "5a6c49c9-8d80-4ec8-9dc5-8ba89cc3923c",
   "metadata": {},
   "outputs": [],
   "source": []
  },
  {
   "cell_type": "code",
   "execution_count": null,
   "id": "9b78ef15-dc53-44a0-8033-519e3b32b126",
   "metadata": {},
   "outputs": [],
   "source": []
  },
  {
   "cell_type": "code",
   "execution_count": null,
   "id": "8a2af57e-ee25-49f1-8bd7-0561d6e346e8",
   "metadata": {},
   "outputs": [],
   "source": []
  },
  {
   "cell_type": "code",
   "execution_count": null,
   "id": "e14f1a78-78ba-497b-9c90-19c4efb938d8",
   "metadata": {},
   "outputs": [],
   "source": []
  }
 ],
 "metadata": {
  "kernelspec": {
   "display_name": "Python 3 (ipykernel)",
   "language": "python",
   "name": "python3"
  },
  "language_info": {
   "codemirror_mode": {
    "name": "ipython",
    "version": 3
   },
   "file_extension": ".py",
   "mimetype": "text/x-python",
   "name": "python",
   "nbconvert_exporter": "python",
   "pygments_lexer": "ipython3",
   "version": "3.10.12"
  }
 },
 "nbformat": 4,
 "nbformat_minor": 5
}
